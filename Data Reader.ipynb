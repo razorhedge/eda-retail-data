{
 "cells": [
  {
   "cell_type": "code",
   "execution_count": 1,
   "metadata": {},
   "outputs": [],
   "source": [
    "import os\n",
    "import pandas as pd\n",
    "import numpy as np\n",
    "from tqdm import tqdm\n",
    "import vaex, swifter, dask\n",
    "import seaborn as sns\n",
    "sns.set(style = 'ticks', palette = 'Set3')"
   ]
  },
  {
   "cell_type": "code",
   "execution_count": 2,
   "metadata": {},
   "outputs": [
    {
     "name": "stderr",
     "output_type": "stream",
     "text": [
      "0it [00:00, ?it/s]\n"
     ]
    }
   ],
   "source": [
    "for t in tqdm([f for f in os.listdir('bz2/') if '.bz2' in f]):\n",
    "    !bzip2 -d bz2/$t"
   ]
  },
  {
   "cell_type": "code",
   "execution_count": 5,
   "metadata": {},
   "outputs": [
    {
     "data": {
      "text/plain": [
       "'test-000000000331.csv'"
      ]
     },
     "execution_count": 5,
     "metadata": {},
     "output_type": "execute_result"
    }
   ],
   "source": [
    "file_list = os.listdir('bz2/')\n",
    "file_list[205]"
   ]
  },
  {
   "cell_type": "code",
   "execution_count": null,
   "metadata": {},
   "outputs": [],
   "source": [
    "%%time\n",
    "#opcion 1, cargar lista individualizada y concatenar\n",
    "dfs = pd.read_csv('bz2/'+file_list[0])\n",
    "for i in tqdm(file_list[1:]):\n",
    "    dft = pd.read_csv('bz2/'+i)\n",
    "    pd.concat([dfs,dft], axis = 1)\n",
    "    del dft"
   ]
  },
  {
   "cell_type": "code",
   "execution_count": null,
   "metadata": {
    "collapsed": true,
    "jupyter": {
     "outputs_hidden": true
    }
   },
   "outputs": [
    {
     "name": "stderr",
     "output_type": "stream",
     "text": [
      "\n",
      "  0%|          | 0/391 [00:00<?, ?it/s]\u001b[A\n",
      "  0%|          | 1/391 [00:04<27:04,  4.16s/it]\u001b[A\n",
      "  1%|          | 2/391 [00:11<32:47,  5.06s/it]\u001b[A\n",
      "  1%|          | 3/391 [00:18<36:26,  5.64s/it]\u001b[A\n",
      "  1%|          | 4/391 [00:26<40:32,  6.28s/it]\u001b[A\n",
      "  1%|▏         | 5/391 [00:31<38:22,  5.96s/it]\u001b[A\n",
      "  2%|▏         | 6/391 [00:39<42:07,  6.57s/it]\u001b[A\n",
      "  2%|▏         | 7/391 [00:43<37:57,  5.93s/it]\u001b[A\n",
      "  2%|▏         | 8/391 [00:48<35:55,  5.63s/it]\u001b[A\n",
      "  2%|▏         | 9/391 [00:55<37:13,  5.85s/it]\u001b[A\n",
      "  3%|▎         | 10/391 [01:01<38:29,  6.06s/it]\u001b[A\n",
      "  3%|▎         | 11/391 [01:06<35:33,  5.61s/it]\u001b[A\n",
      "  3%|▎         | 12/391 [01:11<35:30,  5.62s/it]\u001b[A\n",
      "  3%|▎         | 13/391 [01:16<34:36,  5.49s/it]\u001b[A\n",
      "  4%|▎         | 14/391 [01:24<38:54,  6.19s/it]\u001b[A\n",
      "  4%|▍         | 15/391 [01:30<38:41,  6.17s/it]\u001b[A\n",
      "  4%|▍         | 16/391 [01:38<40:57,  6.55s/it]\u001b[A\n",
      "  4%|▍         | 17/391 [01:45<41:49,  6.71s/it]\u001b[A\n",
      "  5%|▍         | 18/391 [01:53<43:59,  7.08s/it]\u001b[A\n",
      "  5%|▍         | 19/391 [01:59<41:47,  6.74s/it]\u001b[A\n",
      "  5%|▌         | 20/391 [02:04<39:11,  6.34s/it]\u001b[A\n",
      "  5%|▌         | 21/391 [02:08<35:15,  5.72s/it]\u001b[A\n",
      "  6%|▌         | 22/391 [02:14<34:18,  5.58s/it]\u001b[A\n",
      "  6%|▌         | 23/391 [02:18<31:01,  5.06s/it]\u001b[A\n",
      "  6%|▌         | 24/391 [02:22<29:51,  4.88s/it]\u001b[A\n",
      "  6%|▋         | 25/391 [02:27<30:40,  5.03s/it]\u001b[A\n",
      "  7%|▋         | 26/391 [02:34<32:39,  5.37s/it]\u001b[A\n",
      "  7%|▋         | 27/391 [02:38<30:15,  4.99s/it]\u001b[A\n",
      "  7%|▋         | 28/391 [02:41<27:59,  4.63s/it]\u001b[A\n",
      "  7%|▋         | 29/391 [02:44<23:54,  3.96s/it]\u001b[A\n",
      "  8%|▊         | 30/391 [02:49<25:15,  4.20s/it]\u001b[A\n",
      "  8%|▊         | 31/391 [02:58<35:09,  5.86s/it]\u001b[A"
     ]
    }
   ],
   "source": [
    "%%time\n",
    "#opcion 2, cargar lista completa y concatenar\n",
    "dfs= {}\n",
    "for i in tqdm(file_list):\n",
    "    dfs[i] = pd.read_csv('bz2/'+i)\n",
    "df_final = pd.concat([dfs])\n",
    "del dfs"
   ]
  },
  {
   "cell_type": "code",
   "execution_count": null,
   "metadata": {},
   "outputs": [],
   "source": [
    "%%time\n",
    "df = {}\n",
    "#opcion 3, leer por filas y appendear por archivo\n",
    "for i in file_list:\n",
    "    with open(i) as f:\n",
    "        df.append(f.readlines())"
   ]
  },
  {
   "cell_type": "code",
   "execution_count": null,
   "metadata": {},
   "outputs": [],
   "source": [
    "with open('bz2/'+file_list[0], 'r') as f:\n",
    "    for line in f:\n",
    "        print(line)"
   ]
  },
  {
   "cell_type": "code",
   "execution_count": null,
   "metadata": {},
   "outputs": [],
   "source": []
  }
 ],
 "metadata": {
  "kernelspec": {
   "display_name": "Python 3",
   "language": "python",
   "name": "python3"
  },
  "language_info": {
   "codemirror_mode": {
    "name": "ipython",
    "version": 3
   },
   "file_extension": ".py",
   "mimetype": "text/x-python",
   "name": "python",
   "nbconvert_exporter": "python",
   "pygments_lexer": "ipython3",
   "version": "3.7.3"
  }
 },
 "nbformat": 4,
 "nbformat_minor": 4
}
